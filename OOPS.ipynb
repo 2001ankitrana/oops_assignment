{
  "nbformat": 4,
  "nbformat_minor": 0,
  "metadata": {
    "colab": {
      "provenance": []
    },
    "kernelspec": {
      "name": "python3",
      "display_name": "Python 3"
    },
    "language_info": {
      "name": "python"
    }
  },
  "cells": [
    {
      "cell_type": "markdown",
      "source": [
        "1/ What are the five key concepts of OOP?\n",
        "- **Abstraction**:Hides complexity from users and only show relevant info.\n",
        "**Encapsulation**:Protects data stored in a class from system-wide access.\n",
        "**Inheritance**:Allows us to create a child class that inherits field and methods of the parent class.\n",
        "**Ploymorphism**:Allows us to perform a certain action in different ways.\n",
        "**Class and objects**:A basic concept of OOP.\n",
        "\n",
        "\n",
        "\n",
        "\n",
        "\n",
        "\n"
      ],
      "metadata": {
        "id": "gikjSr_Woi1z"
      }
    },
    {
      "cell_type": "markdown",
      "source": [
        "2/ Write a python class for car with attribute for 'make' model,and year,include a method to display car's information.\n",
        "-"
      ],
      "metadata": {
        "id": "PbK1Fjsop5Hw"
      }
    },
    {
      "cell_type": "code",
      "source": [
        "# Parent class\n",
        "\n",
        "class Car:\n",
        "  def __init__(self,make,model,year):\n",
        "    self.make = make\n",
        "    self.model = model\n",
        "    self.year = year\n",
        "\n",
        "  def getMake(self):\n",
        "    return self.make\n",
        "\n",
        "  def getModel(self):\n",
        "    return self.model\n",
        "\n",
        "  def getYear(self):\n",
        "    return self.year\n",
        "\n",
        "\n",
        "  def display_info(self):\n",
        "   print(f\"This is a {self.year} {self.make} {self.model}.\")\n"
      ],
      "metadata": {
        "id": "qlZpVNyU38H_"
      },
      "execution_count": null,
      "outputs": []
    },
    {
      "cell_type": "markdown",
      "source": [
        "3/ Explain the diff. b/w instance methods and class methods.Provide an e.g. of each.\n",
        "- Instance Method: Bound to object of a class, it can modify a object state, Can access and modify both class and instance variables, these must have self parameter, no need of decorator\n",
        "eg.\n",
        "\n",
        "def instance_method\n",
        "    \"I'm an instance method\"\n",
        "end\n",
        "\n",
        "Class Method: Doesn't need self parameter, Need cls as parameter, need decorator **@classmethod**,can be accessed directly through the class, don't need instance of class.\n",
        "eg\n",
        "\n",
        "def self.class_method\n",
        "    \"I'm a class method\"\n",
        "end"
      ],
      "metadata": {
        "id": "EVQA88tvqU3y"
      }
    },
    {
      "cell_type": "markdown",
      "source": [
        "4/ How does python implement method overloading?give an example.\n",
        "\n",
        "- Method overloading means creating various methods with the same name using different tyoes or parameters.In general python doesn't support method overloading. Though it doesn't show any compile-time errors,the method overloading in python will be considered using the last defined method.If we try to call the overloaded method using various arguments or parameters,then we get errors at runtime.\n",
        "\n",
        "some advantages od method overloading in python\n",
        "-reduced complexities,improved quality of the code, easy to access,utilized for reusability.\n"
      ],
      "metadata": {
        "id": "OIcbDtvxqkBR"
      }
    },
    {
      "cell_type": "code",
      "source": [
        "# method overloading using default arguments\n",
        "\n",
        "class Calc:\n",
        "\n",
        "  def add(self,x,y,z=0):\n",
        "\n",
        "    if z>0:\n",
        "      print(\"x+y+z={}\".format(x+y+z))\n",
        "\n",
        "    else:\n",
        "      print(\"x+y={}\".format(x+y))\n",
        "\n",
        "zz = Calc()\n",
        "zz.add(3,5,6)\n",
        "zz.add(3,5)"
      ],
      "metadata": {
        "colab": {
          "base_uri": "https://localhost:8080/"
        },
        "id": "Ks90r8mZCahT",
        "outputId": "f8435929-d24c-4ee6-a9e2-d8c331a60e90"
      },
      "execution_count": null,
      "outputs": [
        {
          "output_type": "stream",
          "name": "stdout",
          "text": [
            "x+y+z=14\n",
            "x+y=8\n"
          ]
        }
      ]
    },
    {
      "cell_type": "markdown",
      "source": [
        "5/ What are the three types of access modifiers in python?How are they denoted?\n",
        "\n",
        "- Public Access modifier:Theorectically,public methods and fields can be accessed directly by any class.\n",
        "\n",
        "Protected Access modifier:Protect methods and fields can be accessed with in the same class it is declared and its subclass.\n",
        "\n",
        "Private Access modifier:Private methods and fields can be only accessed with in the same class it is declared."
      ],
      "metadata": {
        "id": "NfQk5ZOfqzsb"
      }
    },
    {
      "cell_type": "code",
      "source": [
        "class Employee:\n",
        "  def __init__(self,name,age,salary):\n",
        "    self.name = name # public variable\n",
        "    self.__age=age # private variable\n",
        "    self._salary = salary # protected variable\n",
        "\n",
        "  def displayEmployee(self):\n",
        "    print (\"Name :\", self.name, \", age: \", self.__age, \", salary: \", self._salary)\n",
        "\n",
        "e1=Employee(\"Rana\",23,20000)\n",
        "\n",
        "print (e1.name)\n",
        "print (e1._salary)\n",
        "print (e1.__age)\n"
      ],
      "metadata": {
        "colab": {
          "base_uri": "https://localhost:8080/",
          "height": 228
        },
        "id": "sXW-LXmwGtpj",
        "outputId": "bc30fb58-4a00-45f0-f363-53769f062dca"
      },
      "execution_count": null,
      "outputs": [
        {
          "output_type": "stream",
          "name": "stdout",
          "text": [
            "Rana\n",
            "20000\n"
          ]
        },
        {
          "output_type": "error",
          "ename": "AttributeError",
          "evalue": "'Employee' object has no attribute '__age'",
          "traceback": [
            "\u001b[0;31m---------------------------------------------------------------------------\u001b[0m",
            "\u001b[0;31mAttributeError\u001b[0m                            Traceback (most recent call last)",
            "\u001b[0;32m<ipython-input-12-fbd02942df3a>\u001b[0m in \u001b[0;36m<cell line: 14>\u001b[0;34m()\u001b[0m\n\u001b[1;32m     12\u001b[0m \u001b[0mprint\u001b[0m \u001b[0;34m(\u001b[0m\u001b[0me1\u001b[0m\u001b[0;34m.\u001b[0m\u001b[0mname\u001b[0m\u001b[0;34m)\u001b[0m\u001b[0;34m\u001b[0m\u001b[0;34m\u001b[0m\u001b[0m\n\u001b[1;32m     13\u001b[0m \u001b[0mprint\u001b[0m \u001b[0;34m(\u001b[0m\u001b[0me1\u001b[0m\u001b[0;34m.\u001b[0m\u001b[0m_salary\u001b[0m\u001b[0;34m)\u001b[0m\u001b[0;34m\u001b[0m\u001b[0;34m\u001b[0m\u001b[0m\n\u001b[0;32m---> 14\u001b[0;31m \u001b[0mprint\u001b[0m \u001b[0;34m(\u001b[0m\u001b[0me1\u001b[0m\u001b[0;34m.\u001b[0m\u001b[0m__age\u001b[0m\u001b[0;34m)\u001b[0m\u001b[0;34m\u001b[0m\u001b[0;34m\u001b[0m\u001b[0m\n\u001b[0m\u001b[1;32m     15\u001b[0m \u001b[0;34m\u001b[0m\u001b[0m\n",
            "\u001b[0;31mAttributeError\u001b[0m: 'Employee' object has no attribute '__age'"
          ]
        }
      ]
    },
    {
      "cell_type": "markdown",
      "source": [
        "6/ Describe the five types of inheritance in python.Provide an simple example of multiple inheritances.\n",
        "\n",
        "- Single: A subclass inherit from a single superclass,this is a straight forward wat to extend a class\n",
        "\n",
        "Multiple:A subclass inherit from more than one superclass, this combines functionalities but can be complex.\n",
        "\n",
        "Multilevel:A child inherit from a parent class,which inherit from another parent class,this creates a chain.\n",
        "\n",
        "Hierarchical: Multiple child classes inherit from the same parent class, this promotes shared functionality across different classes.\n",
        "\n",
        "Hybrid:Combines two or more types of inheritances,this provide flexibility and reusability by combining the features of different inheritance models.\n",
        "\n"
      ],
      "metadata": {
        "id": "LsRmGKEWrBSt"
      }
    },
    {
      "cell_type": "code",
      "source": [
        "# multiple inheritance\n",
        "\n",
        "class Base1(object):\n",
        "  def __init__(self):\n",
        "    self.str1 = \"Rana1\"\n",
        "    print(\"Base1\")\n",
        "\n",
        "class Base2(object):\n",
        "  def __init__(self):\n",
        "    self.str2 = \"Rana2\"\n",
        "    print(\"Base2\")\n",
        "\n",
        "class Compiled(Base1,Base2):\n",
        "  def __init__(self):\n",
        "    Base1.__init__(self)\n",
        "    Base2.__init__(self)\n",
        "    print(\"compiled\")\n",
        "\n",
        "  def printStrs(self):\n",
        "    print(self.str1,self.str2)\n",
        "\n",
        "obj = Compiled()\n",
        "obj.printStrs()\n",
        "\n",
        "\n"
      ],
      "metadata": {
        "colab": {
          "base_uri": "https://localhost:8080/"
        },
        "id": "CgBfbNQeLbti",
        "outputId": "09a443be-9295-4a81-af0c-fe56a4422321"
      },
      "execution_count": null,
      "outputs": [
        {
          "output_type": "stream",
          "name": "stdout",
          "text": [
            "Base1\n",
            "Base2\n",
            "compiled\n",
            "Rana1 Rana2\n"
          ]
        }
      ]
    },
    {
      "cell_type": "markdown",
      "source": [
        "7/ What is the method resolution order(MRO) in python? How can you retrive it programmatically?\n",
        "\n",
        "- MRO is the order in which Python looks for a method in a hierarchy of classes. Especially it plays vital role in the context of multiple inheritances as single method may be found in multiple super classes.\n",
        "It denotes the way a programming language resolvesa method or attribte.\n",
        "\n",
        "  Old style class\n",
        "\n",
        "class OldstyleClass:\n",
        "\n",
        "    pass\n",
        "\n",
        "  New style class\n",
        "\n",
        "class NewstyleClass:\n",
        "\n",
        "    pass\n",
        "\n"
      ],
      "metadata": {
        "id": "KV6EItcrrTiF"
      }
    },
    {
      "cell_type": "code",
      "source": [
        "\n",
        "# working of MRO\n",
        "\n",
        "# working of MRO\n",
        "\n",
        "class A:\n",
        "  def rk(self):\n",
        "    print(\" In class A\")\n",
        "class B(A):\n",
        "  def rk(self):\n",
        "    print(\" In class B\")\n",
        "class C(A):\n",
        "  def rk(self):\n",
        "    print(\" In class C\")\n",
        "\n",
        "# classes ordering\n",
        "\n",
        "class D(B, C):\n",
        "  pass\n",
        "\n",
        "\n",
        "r = D()\n",
        "r.rk()\n",
        "\n",
        "\n",
        "\n"
      ],
      "metadata": {
        "colab": {
          "base_uri": "https://localhost:8080/"
        },
        "id": "46O3MlmBP8vI",
        "outputId": "53e4853a-c107-4f39-c335-2c88bfaed450"
      },
      "execution_count": null,
      "outputs": [
        {
          "output_type": "stream",
          "name": "stdout",
          "text": [
            " In class B\n"
          ]
        }
      ]
    },
    {
      "cell_type": "markdown",
      "source": [
        "8/ Create an abstract base class 'shape' with an abstract method 'area()'.Then create two subclasses \"circle' and 'rectangle' that implement the 'area()' method.\n"
      ],
      "metadata": {
        "id": "4T07WGomrorL"
      }
    },
    {
      "cell_type": "code",
      "source": [
        "from abc import ABC, abstractmethod\n",
        "\n",
        "\n",
        "class Shape(ABC):\n",
        "  @abstractmethod\n",
        "  def area(self):\n",
        "     pass\n",
        "\n",
        "  def description(self):\n",
        "    return \"This is shape.\"\n",
        "\n",
        "class Circle(Shape):\n",
        "  def __init__(self,radius):\n",
        "    self.radius = radius\n",
        "\n",
        "  def area(self):\n",
        "    return 3.14*self.radius*self.radius\n",
        "\n",
        "class Rectangle(Shape):\n",
        "  def __init__(self,length,width):\n",
        "    self.length = length\n",
        "    self.width = width\n",
        "\n",
        "  def area(self):\n",
        "    return self.length*self.width\n",
        "\n",
        "def print_shape_info(shape):\n",
        "     print(shape.description())\n",
        "     print(f\"Area: {shape.area()}\")\n",
        "\n",
        "shapes = [Circle(5),Rectangle(4,6)]\n",
        "\n",
        "for shape in shapes:\n",
        "   print_shape_info(shape)\n",
        "\n",
        "\n"
      ],
      "metadata": {
        "colab": {
          "base_uri": "https://localhost:8080/"
        },
        "id": "WJJL5ZnB2iFF",
        "outputId": "7a6a3a34-007e-4ace-dff6-f3394d3f5fa8"
      },
      "execution_count": null,
      "outputs": [
        {
          "output_type": "stream",
          "name": "stdout",
          "text": [
            "This is shape.\n",
            "Area: 78.5\n",
            "This is shape.\n",
            "Area: 24\n"
          ]
        }
      ]
    },
    {
      "cell_type": "markdown",
      "source": [
        "9/ Demonstrate polymorphism by creating a function that can work with different shape object to calculate and print their areas.\n",
        "-"
      ],
      "metadata": {
        "id": "rouSDPt7sKZE"
      }
    },
    {
      "cell_type": "code",
      "source": [
        "# polymorphism\n",
        "\n",
        "class Shape:\n",
        "  def area(self):\n",
        "    pass\n",
        "\n",
        "class Circle(Shape):\n",
        "  def __init__(self,radius):\n",
        "    self.radius = radius\n",
        "  def area(self):\n",
        "    return self.radius ** 2 * 3.14\n",
        "\n",
        "class Rectangle(Shape):\n",
        "  def __init__(self,length,width):\n",
        "    self.length = length\n",
        "    self.width = width\n",
        "  def area(self):\n",
        "    return self.length * self.width\n",
        "\n",
        "class Triangle(Shape):\n",
        "  def __init__(self,base,height):\n",
        "    self.base = base\n",
        "    self.height = height\n",
        "  def area(self):\n",
        "    return self.base * self.height / 2\n",
        "\n",
        "p = Circle(5)\n",
        "q = Rectangle(4,6)\n",
        "r = Triangle(6,7)\n",
        "print(p.area())\n",
        "print(q.area())\n",
        "print(r.area())"
      ],
      "metadata": {
        "colab": {
          "base_uri": "https://localhost:8080/"
        },
        "id": "PHiKMZdtl9nv",
        "outputId": "12812287-72c8-4acb-91e8-122dd60479dc"
      },
      "execution_count": null,
      "outputs": [
        {
          "output_type": "stream",
          "name": "stdout",
          "text": [
            "78.5\n",
            "24\n",
            "21.0\n"
          ]
        }
      ]
    },
    {
      "cell_type": "markdown",
      "source": [
        "10/ Implement encapsulation in a \"bankaccount' class with private attribute for 'balance' and \"account_number'.Include methods for deposit,withdrawl,and balance inquiry.\n"
      ],
      "metadata": {
        "id": "yN6U5FFesibu"
      }
    },
    {
      "cell_type": "code",
      "source": [
        "class BankAccount:\n",
        "  def __init__(self,account_number,balance):\n",
        "    self.__account_number = account_number # private attribute\n",
        "    self.__balance = balance # private attribute\n",
        "\n",
        "  def deposit(self, amount):\n",
        "    if amount > 0:\n",
        "      self.__balance += amount\n",
        "    return self.__balance\n",
        "\n",
        "  def withdrawl(self,amount):\n",
        "    if amount > 0 and amount <= self.__balance:\n",
        "      self.__balance -= amount\n",
        "    return self.__balance\n",
        "\n",
        "  def get_balance(self):\n",
        "    return f\"Account holder: {self.__account_number}, Balance: {self.__balance}\"\n",
        "\n",
        "account = BankAccount(\"Rana\", 20000)\n",
        "print(account.deposit(5000))\n",
        "print(account.withdrawl(1000))\n",
        "print(account.get_balance())\n",
        "\n",
        "\n",
        "\n"
      ],
      "metadata": {
        "colab": {
          "base_uri": "https://localhost:8080/"
        },
        "id": "V90B-iMir218",
        "outputId": "31f82345-42d9-4a06-9b73-25a101100e33"
      },
      "execution_count": null,
      "outputs": [
        {
          "output_type": "stream",
          "name": "stdout",
          "text": [
            "25000\n",
            "24000\n",
            "Account holder: Rana, Balance: 24000\n"
          ]
        }
      ]
    },
    {
      "cell_type": "markdown",
      "source": [
        "11/ Write a class that overrides the'__str__'and'__add__'magic methods.What will these methods allow you to do?\n",
        "- These were helpful in debugging Python code by logging or printing useful information about an object.\n",
        " _str_  allow to print string\n",
        "\n",
        " _add_ allow to perform addition with our custom objects"
      ],
      "metadata": {
        "id": "5skg55kltFPn"
      }
    },
    {
      "cell_type": "code",
      "source": [
        "class Num:\n",
        "  def __init__(self, number):\n",
        "    self.number = number\n",
        "  def __add__(self, other):\n",
        "    return Num(self.number + other.number)\n",
        "\n",
        "num = Num(10)\n",
        "print(num.number)\n",
        "num2 = Num(20)\n",
        "print(num2.number)\n",
        "print(num + num2)\n",
        "\n"
      ],
      "metadata": {
        "id": "L428VYpPx7uj",
        "colab": {
          "base_uri": "https://localhost:8080/"
        },
        "outputId": "bb067092-b6f7-4cbc-a058-e284e7426c0a"
      },
      "execution_count": 17,
      "outputs": [
        {
          "output_type": "stream",
          "name": "stdout",
          "text": [
            "10\n",
            "20\n",
            "<__main__.Num object at 0x7d5679ea0460>\n"
          ]
        }
      ]
    },
    {
      "cell_type": "markdown",
      "source": [
        "12/ Create an decorator that measures and prints the execution time of a function."
      ],
      "metadata": {
        "id": "JRGh8SPCth34"
      }
    },
    {
      "cell_type": "code",
      "source": [
        "import time\n",
        "\n",
        "def measure_execution_time(func):\n",
        "     def wrapper(*args, **kwargs):\n",
        "         start_time = time.time()\n",
        "         result = func(*args, **kwargs)\n",
        "         end_time = time.time()\n",
        "         execution_time = end_time - start_time\n",
        "         print(f\"Function '{func.__name__}' took {execution_time:.5f} seconds to execute\")\n",
        "         return result\n",
        "     return wrapper\n",
        "\n",
        "\n",
        "def calculate_multiply(numbers):\n",
        "  tot = 1\n",
        "  for x in numbers:\n",
        "    tot *= x\n",
        "  return tot\n",
        "\n",
        "result = calculate_multiply([1,2,3,4,5])\n",
        "print(\"Result:\", result)\n",
        "\n",
        "\n"
      ],
      "metadata": {
        "colab": {
          "base_uri": "https://localhost:8080/"
        },
        "id": "NIjHwVDDRyvx",
        "outputId": "3fb00950-949d-4b61-8cd7-a7cde460bdce"
      },
      "execution_count": null,
      "outputs": [
        {
          "output_type": "stream",
          "name": "stdout",
          "text": [
            "Result: 120\n"
          ]
        }
      ]
    },
    {
      "cell_type": "markdown",
      "source": [
        "13/ Explain the concept of the diamond problem in multiple inheritance.How does python resolve it?\n",
        "\n",
        "- It occurs when a class inherits from multiple classes that share a common ancestor,which can lead to ambiguity in resolving in methods and attributes.\n",
        "\n",
        "some examples of diamond problem in Python are: Base class, Leftsubclass, Rightsubclass, Subclass.\n",
        "\n",
        "Python uses MRO(Method Resolution Order) and Super() function to resolve the diamond problem.\n",
        "\n",
        "MRO:Python uses an algorithm called C3 to determine the MRO,which is the order in which methods and attributes are inherited,the MRO uses DLR sequence, which is depth,left,right.\n",
        "\n",
        "Super():The super() function is used to call methods in a superclass.In multiple inheritance scenario,Super() ensure that the method in the base class is only executed once.\n"
      ],
      "metadata": {
        "id": "N1QcY_H0twTf"
      }
    },
    {
      "cell_type": "markdown",
      "source": [
        "14/ Write a class method that keeps track of the number of instances created from a class."
      ],
      "metadata": {
        "id": "6Di6jzTpt-68"
      }
    },
    {
      "cell_type": "code",
      "source": [
        "class MyClass:\n",
        "  count = 0\n",
        "\n",
        "  def __init__(self, name):\n",
        "    self.name = name\n",
        "    MyClass.count += 1\n",
        "\n",
        "obj1 = MyClass(\"Rana\")\n",
        "obj2 = MyClass(\"Anku\")\n",
        "obj3 = MyClass(\"Jubin\")\n",
        "\n",
        "print(\"total number of instances created:\", MyClass.count)"
      ],
      "metadata": {
        "colab": {
          "base_uri": "https://localhost:8080/"
        },
        "id": "u3Z0uWjmurIO",
        "outputId": "dc3f9089-6547-461e-80db-a664e15c347a"
      },
      "execution_count": 1,
      "outputs": [
        {
          "output_type": "stream",
          "name": "stdout",
          "text": [
            "total number of instances created: 3\n"
          ]
        }
      ]
    },
    {
      "cell_type": "markdown",
      "source": [
        "15/ Implement a static method in a class that cheks if a given year is a leap year."
      ],
      "metadata": {
        "id": "1EDGvuTcuMMW"
      }
    },
    {
      "cell_type": "code",
      "source": [
        "class LeapYear:\n",
        "  @staticmethod\n",
        "  def is_leap_year(year):\n",
        "    if (year % 4 == 0 and year % 100 != 0) or (year % 400 == 0):\n",
        "      return True\n",
        "    else:\n",
        "      return False\n",
        "class LeapYear:\n",
        "  @staticmethod\n",
        "  class LeapYear:\n",
        "   @staticmethod\n",
        "   def is_leap_year(year):\n",
        "    if (year % 4 == 0 and year % 100 != 0) or (year % 400 == 0):\n",
        "      return True\n",
        "    else:\n",
        "      return False\n",
        "class LeapYear:\n",
        "  @staticmethod\n",
        "  def is_leap_year(year):\n",
        "    if (year % 4 == 0 and year % 100 != 0) or (year % 400 == 0):\n",
        "      return True\n",
        "    else:\n",
        "      return False\n",
        "\n",
        "year = LeapYear.is_leap_year(2027)\n",
        "print(year)\n",
        "\n",
        "year = LeapYear.is_leap_year(2027)\n",
        "print(year)"
      ],
      "metadata": {
        "colab": {
          "base_uri": "https://localhost:8080/"
        },
        "id": "DGk4XjD6vsgK",
        "outputId": "755cecd3-5907-4f00-cc03-e24ac0afee72"
      },
      "execution_count": 9,
      "outputs": [
        {
          "output_type": "stream",
          "name": "stdout",
          "text": [
            "False\n",
            "False\n"
          ]
        }
      ]
    }
  ]
}